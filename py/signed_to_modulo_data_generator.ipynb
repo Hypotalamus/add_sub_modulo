{
 "cells": [
  {
   "cell_type": "code",
   "execution_count": 1,
   "metadata": {},
   "outputs": [],
   "source": [
    "import numpy as np"
   ]
  },
  {
   "cell_type": "code",
   "execution_count": 3,
   "metadata": {},
   "outputs": [],
   "source": [
    "def create_input_data_file(samples_count, modulo, file_name=\"test_input.txt\", rand_state=1):\n",
    "    \"\"\" Create text file with samples of input data for testbench.\n",
    "    \n",
    "        Every string has format: <data> <modulo>, where <data> - integer in [- modulo // 2, modulo // 2) for even modulo\n",
    "            or [- (modulo - 1) // 2, (modulo - 1) // 2] for odd modulo, modulo - integer > 0\n",
    "        Arguments:\n",
    "        - samples_count - number of strings in file, integer > 0;\n",
    "        - modulo - modulo, array [1, samples_count] of modulo for every input or integer - one module for all inputs;\n",
    "        - file_name - string with name of created file\n",
    "        - rand_state - state of random generator, for samples repeatability\n",
    "        \n",
    "        return array [samples_count, 2] of integers where each row has an appropriate string content from file.\n",
    "    \"\"\"\n",
    "    assert type(modulo) in [int, np.ndarray], \"Error! Modulo must be integer or array.\"\n",
    "    assert isinstance(modulo, int) or (modulo.size == len(modulo) == samples_count), \"Error! If modulo is array \" +\\\n",
    "        \"then it must be vector with 'samples_count' length.\"\n",
    "    \n",
    "    # generate array with samples\n",
    "    rgen = np.random.RandomState(seed=rand_state)\n",
    "    if isinstance(modulo, np.ndarray):\n",
    "        modulo = modulo.reshape(-1, 1)\n",
    "        data = np.zeros_like(modulo)\n",
    "        for ii, cur_mod in enumerate(modulo):\n",
    "            data[ii, 0] = rgen.randint(- cur_mod // 2, cur_mod //2) if cur_mod % 2 == 0 else \\\n",
    "                rgen.randint(- (cur_mod - 1) // 2, (cur_mod - 1) // 2 + 1)\n",
    "        mod_data = np.hstack((data, modulo)).astype(int)\n",
    "    elif isinstance(modulo, int):\n",
    "        data = rgen.randint(- modulo // 2, modulo // 2, size=(samples_count, 1)) if modulo % 2 == 0 else \\\n",
    "            rgen.randint(- (modulo - 1) // 2, (modulo - 1) // 2 + 1, size=(samples_count, 1))\n",
    "        modulo_vec = modulo * np.ones((samples_count, 1))\n",
    "        mod_data = np.hstack((data, modulo_vec)).astype(int)\n",
    "        \n",
    "    # write sample to file        \n",
    "    with open(file_name, 'w') as f:\n",
    "        strings = []\n",
    "        for ii in range(samples_count):\n",
    "            strings.append(f\"{mod_data[ii, 0]:d} {mod_data[ii, 1]:d}\\n\")\n",
    "        f.writelines(strings)\n",
    "    return mod_data\n",
    "\n",
    "def create_output_data_file(input_data_file=\"test_input.txt\", output_data_file=\"test_output.txt\"):\n",
    "    \"\"\" Create text file with samples of output data for testbench.\n",
    "    \n",
    "        Every string has format: <out_data>, where out_data - integer >= 0\n",
    "        Arguments:\n",
    "        - input_data_file - name (destination) of file with input data, string. Before execute function \n",
    "            you must create this file (using create_input_data_file(), for example) first.\n",
    "        - output_data_file - name (destination of created file with output data). File contains\n",
    "        <data> modulo <modulo> from input_data_file in each string, see create_input_data_file() help.\n",
    "    \n",
    "        return array [samples_count, 1] with sums written to file output_data_file.\n",
    "    \"\"\"\n",
    "    try:\n",
    "        with open(input_data_file, 'r') as f_rd:\n",
    "            with open(output_data_file, 'w') as f_wr:\n",
    "                out_data = None\n",
    "                for input_string in f_rd.readlines():\n",
    "                    data, modulo = (int(el) for el in input_string.split(\" \"))\n",
    "                    output_string = np.mod(data, modulo)\n",
    "                    if out_data is not None:\n",
    "                        out_data = np.vstack((out_data, output_string))\n",
    "                    else:\n",
    "                        out_data = np.copy(output_string)\n",
    "                f_wr.writelines((f\"{int(el)}\\n\" for el in out_data))\n",
    "        return out_data\n",
    "    except IOError:\n",
    "        print(f\"Error! File {input_data_file} is not accessible.\")"
   ]
  },
  {
   "cell_type": "code",
   "execution_count": 3,
   "metadata": {},
   "outputs": [],
   "source": [
    "show_files = False\n",
    "check_files = True\n",
    "samples_count = 2000\n",
    "modulos = [50, 103, 201, 256]\n",
    "modulo_vec = None\n",
    "for cur_modulo in modulos:\n",
    "    new_modulos = cur_modulo * np.ones(samples_count // len(modulos))\n",
    "    if modulo_vec is not None:\n",
    "        modulo_vec = np.hstack((modulo_vec, new_modulos))\n",
    "    else:\n",
    "        modulo_vec = np.copy(new_modulos)\n",
    "        \n",
    "in_data = create_input_data_file(samples_count=samples_count, modulo=modulo_vec, file_name=\"test_input.txt\", rand_state=150)\n",
    "\n",
    "if show_files:\n",
    "    with open(\"test_input.txt\", 'r') as f:\n",
    "        for data_str in f.readlines():\n",
    "            print(data_str)"
   ]
  },
  {
   "cell_type": "code",
   "execution_count": 4,
   "metadata": {},
   "outputs": [],
   "source": [
    "out_data = create_output_data_file(input_data_file=\"test_input.txt\", output_data_file=\"test_output.txt\")\n",
    "\n",
    "if show_files:\n",
    "    with open(\"test_output.txt\", 'r') as f:\n",
    "        for data_str in f.readlines():\n",
    "            print(data_str)"
   ]
  },
  {
   "cell_type": "code",
   "execution_count": 5,
   "metadata": {},
   "outputs": [],
   "source": [
    "if check_files:\n",
    "    assert np.all(np.mod(in_data[:, 0], in_data[:, 1]).reshape(out_data.shape) == out_data), \\\n",
    "        \"Error! Data from output_file don't match data from input_file.\""
   ]
  }
 ],
 "metadata": {
  "kernelspec": {
   "display_name": "Python 3",
   "language": "python",
   "name": "python3"
  },
  "language_info": {
   "codemirror_mode": {
    "name": "ipython",
    "version": 3
   },
   "file_extension": ".py",
   "mimetype": "text/x-python",
   "name": "python",
   "nbconvert_exporter": "python",
   "pygments_lexer": "ipython3",
   "version": "3.6.6"
  }
 },
 "nbformat": 4,
 "nbformat_minor": 2
}
